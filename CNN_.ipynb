{
  "cells": [
    {
      "cell_type": "markdown",
      "metadata": {
        "id": "view-in-github",
        "colab_type": "text"
      },
      "source": [
        "<a href=\"https://colab.research.google.com/github/GodstimeEdet/5G-path-loss-prediction-using-CNN/blob/in-progress/CNN_.ipynb\" target=\"_parent\"><img src=\"https://colab.research.google.com/assets/colab-badge.svg\" alt=\"Open In Colab\"/></a>"
      ]
    },
    {
      "cell_type": "code",
      "execution_count": null,
      "metadata": {
        "id": "N3l3u1bsdLSH"
      },
      "outputs": [],
      "source": [
        "\n",
        "\n",
        "# import the libraries as shown below\n",
        "\n",
        "from tensorflow.keras.layers import Input, Lambda, Dense, Flatten\n",
        "from tensorflow.keras.models import Model\n",
        "from tensorflow.keras.applications.inception_v3 import InceptionV3\n",
        "#from keras.applications.vgg16 import VGG16\n",
        "from tensorflow.keras.applications.inception_v3 import preprocess_input\n",
        "from tensorflow.keras.preprocessing import image\n",
        "from tensorflow.keras.preprocessing.image import ImageDataGenerator,load_img\n",
        "from tensorflow.keras.models import Sequential\n",
        "import numpy as np\n",
        "from glob import glob\n",
        "#import matplotlib.pyplot as plt\n",
        "\n"
      ]
    },
    {
      "cell_type": "code",
      "execution_count": null,
      "metadata": {
        "id": "FiZ9ldEIWjIy"
      },
      "outputs": [],
      "source": [
        "# re-size all the images to this\n",
        "IMAGE_SIZE = [224, 224]\n",
        "\n",
        "train_path = '/content/drive/MyDrive/data/dataset/train'\n",
        "valid_path = '/content/drive/MyDrive/data/dataset/test'"
      ]
    },
    {
      "cell_type": "code",
      "execution_count": null,
      "metadata": {
        "id": "i-mYGO5Hd49R"
      },
      "outputs": [],
      "source": [
        "# Import the Vgg 16 library as shown below and add preprocessing layer to the front of VGG\n",
        "# Here we will be using imagenet weights\n",
        "\n",
        "inception = InceptionV3(input_shape=IMAGE_SIZE + [3], weights='imagenet', include_top=False)\n",
        "\n"
      ]
    },
    {
      "cell_type": "code",
      "execution_count": null,
      "metadata": {
        "id": "m-up7oL8eCVs"
      },
      "outputs": [],
      "source": [
        "# don't train existing weights\n",
        "for layer in inception.layers:\n",
        "    layer.trainable = False"
      ]
    },
    {
      "cell_type": "code",
      "execution_count": null,
      "metadata": {
        "id": "Oazb7K8-eIPg"
      },
      "outputs": [],
      "source": [
        "  # useful for getting number of output classes\n",
        "folders = glob('/content/drive/MyDrive/data/dataset/train/*')\n"
      ]
    },
    {
      "cell_type": "code",
      "execution_count": null,
      "metadata": {
        "colab": {
          "base_uri": "https://localhost:8080/"
        },
        "id": "7y6k7m1EeVrB",
        "outputId": "0b32ba32-aa14-459d-d00e-16e17cc2836e"
      },
      "outputs": [
        {
          "output_type": "execute_result",
          "data": {
            "text/plain": [
              "['/content/drive/MyDrive/data/dataset/train/poor signal path',\n",
              " '/content/drive/MyDrive/data/dataset/train/average signal path',\n",
              " '/content/drive/MyDrive/data/dataset/train/good signal path']"
            ]
          },
          "metadata": {},
          "execution_count": 7
        }
      ],
      "source": [
        "folders"
      ]
    },
    {
      "cell_type": "code",
      "execution_count": null,
      "metadata": {
        "id": "gVucAOeJeaq8"
      },
      "outputs": [],
      "source": [
        "# our layers - you can add more if you want\n",
        "x = Flatten()(inception.output)"
      ]
    },
    {
      "cell_type": "code",
      "execution_count": null,
      "metadata": {
        "id": "8UYclFz4eiJ2"
      },
      "outputs": [],
      "source": [
        "prediction = Dense(len(folders), activation='softmax')(x)\n",
        "\n",
        "# create a model object\n",
        "model = Model(inputs=inception.input, outputs=prediction)"
      ]
    },
    {
      "cell_type": "code",
      "execution_count": null,
      "metadata": {
        "colab": {
          "base_uri": "https://localhost:8080/"
        },
        "id": "rslJ-79keuga",
        "outputId": "ef699ff2-8669-4b4c-a45e-7d1b1de673d7"
      },
      "outputs": [
        {
          "output_type": "stream",
          "name": "stdout",
          "text": [
            "Model: \"model\"\n",
            "__________________________________________________________________________________________________\n",
            " Layer (type)                Output Shape                 Param #   Connected to                  \n",
            "==================================================================================================\n",
            " input_2 (InputLayer)        [(None, 224, 224, 3)]        0         []                            \n",
            "                                                                                                  \n",
            " conv2d_94 (Conv2D)          (None, 111, 111, 32)         864       ['input_2[0][0]']             \n",
            "                                                                                                  \n",
            " batch_normalization_94 (Ba  (None, 111, 111, 32)         96        ['conv2d_94[0][0]']           \n",
            " tchNormalization)                                                                                \n",
            "                                                                                                  \n",
            " activation_94 (Activation)  (None, 111, 111, 32)         0         ['batch_normalization_94[0][0]\n",
            "                                                                    ']                            \n",
            "                                                                                                  \n",
            " conv2d_95 (Conv2D)          (None, 109, 109, 32)         9216      ['activation_94[0][0]']       \n",
            "                                                                                                  \n",
            " batch_normalization_95 (Ba  (None, 109, 109, 32)         96        ['conv2d_95[0][0]']           \n",
            " tchNormalization)                                                                                \n",
            "                                                                                                  \n",
            " activation_95 (Activation)  (None, 109, 109, 32)         0         ['batch_normalization_95[0][0]\n",
            "                                                                    ']                            \n",
            "                                                                                                  \n",
            " conv2d_96 (Conv2D)          (None, 109, 109, 64)         18432     ['activation_95[0][0]']       \n",
            "                                                                                                  \n",
            " batch_normalization_96 (Ba  (None, 109, 109, 64)         192       ['conv2d_96[0][0]']           \n",
            " tchNormalization)                                                                                \n",
            "                                                                                                  \n",
            " activation_96 (Activation)  (None, 109, 109, 64)         0         ['batch_normalization_96[0][0]\n",
            "                                                                    ']                            \n",
            "                                                                                                  \n",
            " max_pooling2d_4 (MaxPoolin  (None, 54, 54, 64)           0         ['activation_96[0][0]']       \n",
            " g2D)                                                                                             \n",
            "                                                                                                  \n",
            " conv2d_97 (Conv2D)          (None, 54, 54, 80)           5120      ['max_pooling2d_4[0][0]']     \n",
            "                                                                                                  \n",
            " batch_normalization_97 (Ba  (None, 54, 54, 80)           240       ['conv2d_97[0][0]']           \n",
            " tchNormalization)                                                                                \n",
            "                                                                                                  \n",
            " activation_97 (Activation)  (None, 54, 54, 80)           0         ['batch_normalization_97[0][0]\n",
            "                                                                    ']                            \n",
            "                                                                                                  \n",
            " conv2d_98 (Conv2D)          (None, 52, 52, 192)          138240    ['activation_97[0][0]']       \n",
            "                                                                                                  \n",
            " batch_normalization_98 (Ba  (None, 52, 52, 192)          576       ['conv2d_98[0][0]']           \n",
            " tchNormalization)                                                                                \n",
            "                                                                                                  \n",
            " activation_98 (Activation)  (None, 52, 52, 192)          0         ['batch_normalization_98[0][0]\n",
            "                                                                    ']                            \n",
            "                                                                                                  \n",
            " max_pooling2d_5 (MaxPoolin  (None, 25, 25, 192)          0         ['activation_98[0][0]']       \n",
            " g2D)                                                                                             \n",
            "                                                                                                  \n",
            " conv2d_102 (Conv2D)         (None, 25, 25, 64)           12288     ['max_pooling2d_5[0][0]']     \n",
            "                                                                                                  \n",
            " batch_normalization_102 (B  (None, 25, 25, 64)           192       ['conv2d_102[0][0]']          \n",
            " atchNormalization)                                                                               \n",
            "                                                                                                  \n",
            " activation_102 (Activation  (None, 25, 25, 64)           0         ['batch_normalization_102[0][0\n",
            " )                                                                  ]']                           \n",
            "                                                                                                  \n",
            " conv2d_100 (Conv2D)         (None, 25, 25, 48)           9216      ['max_pooling2d_5[0][0]']     \n",
            "                                                                                                  \n",
            " conv2d_103 (Conv2D)         (None, 25, 25, 96)           55296     ['activation_102[0][0]']      \n",
            "                                                                                                  \n",
            " batch_normalization_100 (B  (None, 25, 25, 48)           144       ['conv2d_100[0][0]']          \n",
            " atchNormalization)                                                                               \n",
            "                                                                                                  \n",
            " batch_normalization_103 (B  (None, 25, 25, 96)           288       ['conv2d_103[0][0]']          \n",
            " atchNormalization)                                                                               \n",
            "                                                                                                  \n",
            " activation_100 (Activation  (None, 25, 25, 48)           0         ['batch_normalization_100[0][0\n",
            " )                                                                  ]']                           \n",
            "                                                                                                  \n",
            " activation_103 (Activation  (None, 25, 25, 96)           0         ['batch_normalization_103[0][0\n",
            " )                                                                  ]']                           \n",
            "                                                                                                  \n",
            " average_pooling2d_9 (Avera  (None, 25, 25, 192)          0         ['max_pooling2d_5[0][0]']     \n",
            " gePooling2D)                                                                                     \n",
            "                                                                                                  \n",
            " conv2d_99 (Conv2D)          (None, 25, 25, 64)           12288     ['max_pooling2d_5[0][0]']     \n",
            "                                                                                                  \n",
            " conv2d_101 (Conv2D)         (None, 25, 25, 64)           76800     ['activation_100[0][0]']      \n",
            "                                                                                                  \n",
            " conv2d_104 (Conv2D)         (None, 25, 25, 96)           82944     ['activation_103[0][0]']      \n",
            "                                                                                                  \n",
            " conv2d_105 (Conv2D)         (None, 25, 25, 32)           6144      ['average_pooling2d_9[0][0]'] \n",
            "                                                                                                  \n",
            " batch_normalization_99 (Ba  (None, 25, 25, 64)           192       ['conv2d_99[0][0]']           \n",
            " tchNormalization)                                                                                \n",
            "                                                                                                  \n",
            " batch_normalization_101 (B  (None, 25, 25, 64)           192       ['conv2d_101[0][0]']          \n",
            " atchNormalization)                                                                               \n",
            "                                                                                                  \n",
            " batch_normalization_104 (B  (None, 25, 25, 96)           288       ['conv2d_104[0][0]']          \n",
            " atchNormalization)                                                                               \n",
            "                                                                                                  \n",
            " batch_normalization_105 (B  (None, 25, 25, 32)           96        ['conv2d_105[0][0]']          \n",
            " atchNormalization)                                                                               \n",
            "                                                                                                  \n",
            " activation_99 (Activation)  (None, 25, 25, 64)           0         ['batch_normalization_99[0][0]\n",
            "                                                                    ']                            \n",
            "                                                                                                  \n",
            " activation_101 (Activation  (None, 25, 25, 64)           0         ['batch_normalization_101[0][0\n",
            " )                                                                  ]']                           \n",
            "                                                                                                  \n",
            " activation_104 (Activation  (None, 25, 25, 96)           0         ['batch_normalization_104[0][0\n",
            " )                                                                  ]']                           \n",
            "                                                                                                  \n",
            " activation_105 (Activation  (None, 25, 25, 32)           0         ['batch_normalization_105[0][0\n",
            " )                                                                  ]']                           \n",
            "                                                                                                  \n",
            " mixed0 (Concatenate)        (None, 25, 25, 256)          0         ['activation_99[0][0]',       \n",
            "                                                                     'activation_101[0][0]',      \n",
            "                                                                     'activation_104[0][0]',      \n",
            "                                                                     'activation_105[0][0]']      \n",
            "                                                                                                  \n",
            " conv2d_109 (Conv2D)         (None, 25, 25, 64)           16384     ['mixed0[0][0]']              \n",
            "                                                                                                  \n",
            " batch_normalization_109 (B  (None, 25, 25, 64)           192       ['conv2d_109[0][0]']          \n",
            " atchNormalization)                                                                               \n",
            "                                                                                                  \n",
            " activation_109 (Activation  (None, 25, 25, 64)           0         ['batch_normalization_109[0][0\n",
            " )                                                                  ]']                           \n",
            "                                                                                                  \n",
            " conv2d_107 (Conv2D)         (None, 25, 25, 48)           12288     ['mixed0[0][0]']              \n",
            "                                                                                                  \n",
            " conv2d_110 (Conv2D)         (None, 25, 25, 96)           55296     ['activation_109[0][0]']      \n",
            "                                                                                                  \n",
            " batch_normalization_107 (B  (None, 25, 25, 48)           144       ['conv2d_107[0][0]']          \n",
            " atchNormalization)                                                                               \n",
            "                                                                                                  \n",
            " batch_normalization_110 (B  (None, 25, 25, 96)           288       ['conv2d_110[0][0]']          \n",
            " atchNormalization)                                                                               \n",
            "                                                                                                  \n",
            " activation_107 (Activation  (None, 25, 25, 48)           0         ['batch_normalization_107[0][0\n",
            " )                                                                  ]']                           \n",
            "                                                                                                  \n",
            " activation_110 (Activation  (None, 25, 25, 96)           0         ['batch_normalization_110[0][0\n",
            " )                                                                  ]']                           \n",
            "                                                                                                  \n",
            " average_pooling2d_10 (Aver  (None, 25, 25, 256)          0         ['mixed0[0][0]']              \n",
            " agePooling2D)                                                                                    \n",
            "                                                                                                  \n",
            " conv2d_106 (Conv2D)         (None, 25, 25, 64)           16384     ['mixed0[0][0]']              \n",
            "                                                                                                  \n",
            " conv2d_108 (Conv2D)         (None, 25, 25, 64)           76800     ['activation_107[0][0]']      \n",
            "                                                                                                  \n",
            " conv2d_111 (Conv2D)         (None, 25, 25, 96)           82944     ['activation_110[0][0]']      \n",
            "                                                                                                  \n",
            " conv2d_112 (Conv2D)         (None, 25, 25, 64)           16384     ['average_pooling2d_10[0][0]']\n",
            "                                                                                                  \n",
            " batch_normalization_106 (B  (None, 25, 25, 64)           192       ['conv2d_106[0][0]']          \n",
            " atchNormalization)                                                                               \n",
            "                                                                                                  \n",
            " batch_normalization_108 (B  (None, 25, 25, 64)           192       ['conv2d_108[0][0]']          \n",
            " atchNormalization)                                                                               \n",
            "                                                                                                  \n",
            " batch_normalization_111 (B  (None, 25, 25, 96)           288       ['conv2d_111[0][0]']          \n",
            " atchNormalization)                                                                               \n",
            "                                                                                                  \n",
            " batch_normalization_112 (B  (None, 25, 25, 64)           192       ['conv2d_112[0][0]']          \n",
            " atchNormalization)                                                                               \n",
            "                                                                                                  \n",
            " activation_106 (Activation  (None, 25, 25, 64)           0         ['batch_normalization_106[0][0\n",
            " )                                                                  ]']                           \n",
            "                                                                                                  \n",
            " activation_108 (Activation  (None, 25, 25, 64)           0         ['batch_normalization_108[0][0\n",
            " )                                                                  ]']                           \n",
            "                                                                                                  \n",
            " activation_111 (Activation  (None, 25, 25, 96)           0         ['batch_normalization_111[0][0\n",
            " )                                                                  ]']                           \n",
            "                                                                                                  \n",
            " activation_112 (Activation  (None, 25, 25, 64)           0         ['batch_normalization_112[0][0\n",
            " )                                                                  ]']                           \n",
            "                                                                                                  \n",
            " mixed1 (Concatenate)        (None, 25, 25, 288)          0         ['activation_106[0][0]',      \n",
            "                                                                     'activation_108[0][0]',      \n",
            "                                                                     'activation_111[0][0]',      \n",
            "                                                                     'activation_112[0][0]']      \n",
            "                                                                                                  \n",
            " conv2d_116 (Conv2D)         (None, 25, 25, 64)           18432     ['mixed1[0][0]']              \n",
            "                                                                                                  \n",
            " batch_normalization_116 (B  (None, 25, 25, 64)           192       ['conv2d_116[0][0]']          \n",
            " atchNormalization)                                                                               \n",
            "                                                                                                  \n",
            " activation_116 (Activation  (None, 25, 25, 64)           0         ['batch_normalization_116[0][0\n",
            " )                                                                  ]']                           \n",
            "                                                                                                  \n",
            " conv2d_114 (Conv2D)         (None, 25, 25, 48)           13824     ['mixed1[0][0]']              \n",
            "                                                                                                  \n",
            " conv2d_117 (Conv2D)         (None, 25, 25, 96)           55296     ['activation_116[0][0]']      \n",
            "                                                                                                  \n",
            " batch_normalization_114 (B  (None, 25, 25, 48)           144       ['conv2d_114[0][0]']          \n",
            " atchNormalization)                                                                               \n",
            "                                                                                                  \n",
            " batch_normalization_117 (B  (None, 25, 25, 96)           288       ['conv2d_117[0][0]']          \n",
            " atchNormalization)                                                                               \n",
            "                                                                                                  \n",
            " activation_114 (Activation  (None, 25, 25, 48)           0         ['batch_normalization_114[0][0\n",
            " )                                                                  ]']                           \n",
            "                                                                                                  \n",
            " activation_117 (Activation  (None, 25, 25, 96)           0         ['batch_normalization_117[0][0\n",
            " )                                                                  ]']                           \n",
            "                                                                                                  \n",
            " average_pooling2d_11 (Aver  (None, 25, 25, 288)          0         ['mixed1[0][0]']              \n",
            " agePooling2D)                                                                                    \n",
            "                                                                                                  \n",
            " conv2d_113 (Conv2D)         (None, 25, 25, 64)           18432     ['mixed1[0][0]']              \n",
            "                                                                                                  \n",
            " conv2d_115 (Conv2D)         (None, 25, 25, 64)           76800     ['activation_114[0][0]']      \n",
            "                                                                                                  \n",
            " conv2d_118 (Conv2D)         (None, 25, 25, 96)           82944     ['activation_117[0][0]']      \n",
            "                                                                                                  \n",
            " conv2d_119 (Conv2D)         (None, 25, 25, 64)           18432     ['average_pooling2d_11[0][0]']\n",
            "                                                                                                  \n",
            " batch_normalization_113 (B  (None, 25, 25, 64)           192       ['conv2d_113[0][0]']          \n",
            " atchNormalization)                                                                               \n",
            "                                                                                                  \n",
            " batch_normalization_115 (B  (None, 25, 25, 64)           192       ['conv2d_115[0][0]']          \n",
            " atchNormalization)                                                                               \n",
            "                                                                                                  \n",
            " batch_normalization_118 (B  (None, 25, 25, 96)           288       ['conv2d_118[0][0]']          \n",
            " atchNormalization)                                                                               \n",
            "                                                                                                  \n",
            " batch_normalization_119 (B  (None, 25, 25, 64)           192       ['conv2d_119[0][0]']          \n",
            " atchNormalization)                                                                               \n",
            "                                                                                                  \n",
            " activation_113 (Activation  (None, 25, 25, 64)           0         ['batch_normalization_113[0][0\n",
            " )                                                                  ]']                           \n",
            "                                                                                                  \n",
            " activation_115 (Activation  (None, 25, 25, 64)           0         ['batch_normalization_115[0][0\n",
            " )                                                                  ]']                           \n",
            "                                                                                                  \n",
            " activation_118 (Activation  (None, 25, 25, 96)           0         ['batch_normalization_118[0][0\n",
            " )                                                                  ]']                           \n",
            "                                                                                                  \n",
            " activation_119 (Activation  (None, 25, 25, 64)           0         ['batch_normalization_119[0][0\n",
            " )                                                                  ]']                           \n",
            "                                                                                                  \n",
            " mixed2 (Concatenate)        (None, 25, 25, 288)          0         ['activation_113[0][0]',      \n",
            "                                                                     'activation_115[0][0]',      \n",
            "                                                                     'activation_118[0][0]',      \n",
            "                                                                     'activation_119[0][0]']      \n",
            "                                                                                                  \n",
            " conv2d_121 (Conv2D)         (None, 25, 25, 64)           18432     ['mixed2[0][0]']              \n",
            "                                                                                                  \n",
            " batch_normalization_121 (B  (None, 25, 25, 64)           192       ['conv2d_121[0][0]']          \n",
            " atchNormalization)                                                                               \n",
            "                                                                                                  \n",
            " activation_121 (Activation  (None, 25, 25, 64)           0         ['batch_normalization_121[0][0\n",
            " )                                                                  ]']                           \n",
            "                                                                                                  \n",
            " conv2d_122 (Conv2D)         (None, 25, 25, 96)           55296     ['activation_121[0][0]']      \n",
            "                                                                                                  \n",
            " batch_normalization_122 (B  (None, 25, 25, 96)           288       ['conv2d_122[0][0]']          \n",
            " atchNormalization)                                                                               \n",
            "                                                                                                  \n",
            " activation_122 (Activation  (None, 25, 25, 96)           0         ['batch_normalization_122[0][0\n",
            " )                                                                  ]']                           \n",
            "                                                                                                  \n",
            " conv2d_120 (Conv2D)         (None, 12, 12, 384)          995328    ['mixed2[0][0]']              \n",
            "                                                                                                  \n",
            " conv2d_123 (Conv2D)         (None, 12, 12, 96)           82944     ['activation_122[0][0]']      \n",
            "                                                                                                  \n",
            " batch_normalization_120 (B  (None, 12, 12, 384)          1152      ['conv2d_120[0][0]']          \n",
            " atchNormalization)                                                                               \n",
            "                                                                                                  \n",
            " batch_normalization_123 (B  (None, 12, 12, 96)           288       ['conv2d_123[0][0]']          \n",
            " atchNormalization)                                                                               \n",
            "                                                                                                  \n",
            " activation_120 (Activation  (None, 12, 12, 384)          0         ['batch_normalization_120[0][0\n",
            " )                                                                  ]']                           \n",
            "                                                                                                  \n",
            " activation_123 (Activation  (None, 12, 12, 96)           0         ['batch_normalization_123[0][0\n",
            " )                                                                  ]']                           \n",
            "                                                                                                  \n",
            " max_pooling2d_6 (MaxPoolin  (None, 12, 12, 288)          0         ['mixed2[0][0]']              \n",
            " g2D)                                                                                             \n",
            "                                                                                                  \n",
            " mixed3 (Concatenate)        (None, 12, 12, 768)          0         ['activation_120[0][0]',      \n",
            "                                                                     'activation_123[0][0]',      \n",
            "                                                                     'max_pooling2d_6[0][0]']     \n",
            "                                                                                                  \n",
            " conv2d_128 (Conv2D)         (None, 12, 12, 128)          98304     ['mixed3[0][0]']              \n",
            "                                                                                                  \n",
            " batch_normalization_128 (B  (None, 12, 12, 128)          384       ['conv2d_128[0][0]']          \n",
            " atchNormalization)                                                                               \n",
            "                                                                                                  \n",
            " activation_128 (Activation  (None, 12, 12, 128)          0         ['batch_normalization_128[0][0\n",
            " )                                                                  ]']                           \n",
            "                                                                                                  \n",
            " conv2d_129 (Conv2D)         (None, 12, 12, 128)          114688    ['activation_128[0][0]']      \n",
            "                                                                                                  \n",
            " batch_normalization_129 (B  (None, 12, 12, 128)          384       ['conv2d_129[0][0]']          \n",
            " atchNormalization)                                                                               \n",
            "                                                                                                  \n",
            " activation_129 (Activation  (None, 12, 12, 128)          0         ['batch_normalization_129[0][0\n",
            " )                                                                  ]']                           \n",
            "                                                                                                  \n",
            " conv2d_125 (Conv2D)         (None, 12, 12, 128)          98304     ['mixed3[0][0]']              \n",
            "                                                                                                  \n",
            " conv2d_130 (Conv2D)         (None, 12, 12, 128)          114688    ['activation_129[0][0]']      \n",
            "                                                                                                  \n",
            " batch_normalization_125 (B  (None, 12, 12, 128)          384       ['conv2d_125[0][0]']          \n",
            " atchNormalization)                                                                               \n",
            "                                                                                                  \n",
            " batch_normalization_130 (B  (None, 12, 12, 128)          384       ['conv2d_130[0][0]']          \n",
            " atchNormalization)                                                                               \n",
            "                                                                                                  \n",
            " activation_125 (Activation  (None, 12, 12, 128)          0         ['batch_normalization_125[0][0\n",
            " )                                                                  ]']                           \n",
            "                                                                                                  \n",
            " activation_130 (Activation  (None, 12, 12, 128)          0         ['batch_normalization_130[0][0\n",
            " )                                                                  ]']                           \n",
            "                                                                                                  \n",
            " conv2d_126 (Conv2D)         (None, 12, 12, 128)          114688    ['activation_125[0][0]']      \n",
            "                                                                                                  \n",
            " conv2d_131 (Conv2D)         (None, 12, 12, 128)          114688    ['activation_130[0][0]']      \n",
            "                                                                                                  \n",
            " batch_normalization_126 (B  (None, 12, 12, 128)          384       ['conv2d_126[0][0]']          \n",
            " atchNormalization)                                                                               \n",
            "                                                                                                  \n",
            " batch_normalization_131 (B  (None, 12, 12, 128)          384       ['conv2d_131[0][0]']          \n",
            " atchNormalization)                                                                               \n",
            "                                                                                                  \n",
            " activation_126 (Activation  (None, 12, 12, 128)          0         ['batch_normalization_126[0][0\n",
            " )                                                                  ]']                           \n",
            "                                                                                                  \n",
            " activation_131 (Activation  (None, 12, 12, 128)          0         ['batch_normalization_131[0][0\n",
            " )                                                                  ]']                           \n",
            "                                                                                                  \n",
            " average_pooling2d_12 (Aver  (None, 12, 12, 768)          0         ['mixed3[0][0]']              \n",
            " agePooling2D)                                                                                    \n",
            "                                                                                                  \n",
            " conv2d_124 (Conv2D)         (None, 12, 12, 192)          147456    ['mixed3[0][0]']              \n",
            "                                                                                                  \n",
            " conv2d_127 (Conv2D)         (None, 12, 12, 192)          172032    ['activation_126[0][0]']      \n",
            "                                                                                                  \n",
            " conv2d_132 (Conv2D)         (None, 12, 12, 192)          172032    ['activation_131[0][0]']      \n",
            "                                                                                                  \n",
            " conv2d_133 (Conv2D)         (None, 12, 12, 192)          147456    ['average_pooling2d_12[0][0]']\n",
            "                                                                                                  \n",
            " batch_normalization_124 (B  (None, 12, 12, 192)          576       ['conv2d_124[0][0]']          \n",
            " atchNormalization)                                                                               \n",
            "                                                                                                  \n",
            " batch_normalization_127 (B  (None, 12, 12, 192)          576       ['conv2d_127[0][0]']          \n",
            " atchNormalization)                                                                               \n",
            "                                                                                                  \n",
            " batch_normalization_132 (B  (None, 12, 12, 192)          576       ['conv2d_132[0][0]']          \n",
            " atchNormalization)                                                                               \n",
            "                                                                                                  \n",
            " batch_normalization_133 (B  (None, 12, 12, 192)          576       ['conv2d_133[0][0]']          \n",
            " atchNormalization)                                                                               \n",
            "                                                                                                  \n",
            " activation_124 (Activation  (None, 12, 12, 192)          0         ['batch_normalization_124[0][0\n",
            " )                                                                  ]']                           \n",
            "                                                                                                  \n",
            " activation_127 (Activation  (None, 12, 12, 192)          0         ['batch_normalization_127[0][0\n",
            " )                                                                  ]']                           \n",
            "                                                                                                  \n",
            " activation_132 (Activation  (None, 12, 12, 192)          0         ['batch_normalization_132[0][0\n",
            " )                                                                  ]']                           \n",
            "                                                                                                  \n",
            " activation_133 (Activation  (None, 12, 12, 192)          0         ['batch_normalization_133[0][0\n",
            " )                                                                  ]']                           \n",
            "                                                                                                  \n",
            " mixed4 (Concatenate)        (None, 12, 12, 768)          0         ['activation_124[0][0]',      \n",
            "                                                                     'activation_127[0][0]',      \n",
            "                                                                     'activation_132[0][0]',      \n",
            "                                                                     'activation_133[0][0]']      \n",
            "                                                                                                  \n",
            " conv2d_138 (Conv2D)         (None, 12, 12, 160)          122880    ['mixed4[0][0]']              \n",
            "                                                                                                  \n",
            " batch_normalization_138 (B  (None, 12, 12, 160)          480       ['conv2d_138[0][0]']          \n",
            " atchNormalization)                                                                               \n",
            "                                                                                                  \n",
            " activation_138 (Activation  (None, 12, 12, 160)          0         ['batch_normalization_138[0][0\n",
            " )                                                                  ]']                           \n",
            "                                                                                                  \n",
            " conv2d_139 (Conv2D)         (None, 12, 12, 160)          179200    ['activation_138[0][0]']      \n",
            "                                                                                                  \n",
            " batch_normalization_139 (B  (None, 12, 12, 160)          480       ['conv2d_139[0][0]']          \n",
            " atchNormalization)                                                                               \n",
            "                                                                                                  \n",
            " activation_139 (Activation  (None, 12, 12, 160)          0         ['batch_normalization_139[0][0\n",
            " )                                                                  ]']                           \n",
            "                                                                                                  \n",
            " conv2d_135 (Conv2D)         (None, 12, 12, 160)          122880    ['mixed4[0][0]']              \n",
            "                                                                                                  \n",
            " conv2d_140 (Conv2D)         (None, 12, 12, 160)          179200    ['activation_139[0][0]']      \n",
            "                                                                                                  \n",
            " batch_normalization_135 (B  (None, 12, 12, 160)          480       ['conv2d_135[0][0]']          \n",
            " atchNormalization)                                                                               \n",
            "                                                                                                  \n",
            " batch_normalization_140 (B  (None, 12, 12, 160)          480       ['conv2d_140[0][0]']          \n",
            " atchNormalization)                                                                               \n",
            "                                                                                                  \n",
            " activation_135 (Activation  (None, 12, 12, 160)          0         ['batch_normalization_135[0][0\n",
            " )                                                                  ]']                           \n",
            "                                                                                                  \n",
            " activation_140 (Activation  (None, 12, 12, 160)          0         ['batch_normalization_140[0][0\n",
            " )                                                                  ]']                           \n",
            "                                                                                                  \n",
            " conv2d_136 (Conv2D)         (None, 12, 12, 160)          179200    ['activation_135[0][0]']      \n",
            "                                                                                                  \n",
            " conv2d_141 (Conv2D)         (None, 12, 12, 160)          179200    ['activation_140[0][0]']      \n",
            "                                                                                                  \n",
            " batch_normalization_136 (B  (None, 12, 12, 160)          480       ['conv2d_136[0][0]']          \n",
            " atchNormalization)                                                                               \n",
            "                                                                                                  \n",
            " batch_normalization_141 (B  (None, 12, 12, 160)          480       ['conv2d_141[0][0]']          \n",
            " atchNormalization)                                                                               \n",
            "                                                                                                  \n",
            " activation_136 (Activation  (None, 12, 12, 160)          0         ['batch_normalization_136[0][0\n",
            " )                                                                  ]']                           \n",
            "                                                                                                  \n",
            " activation_141 (Activation  (None, 12, 12, 160)          0         ['batch_normalization_141[0][0\n",
            " )                                                                  ]']                           \n",
            "                                                                                                  \n",
            " average_pooling2d_13 (Aver  (None, 12, 12, 768)          0         ['mixed4[0][0]']              \n",
            " agePooling2D)                                                                                    \n",
            "                                                                                                  \n",
            " conv2d_134 (Conv2D)         (None, 12, 12, 192)          147456    ['mixed4[0][0]']              \n",
            "                                                                                                  \n",
            " conv2d_137 (Conv2D)         (None, 12, 12, 192)          215040    ['activation_136[0][0]']      \n",
            "                                                                                                  \n",
            " conv2d_142 (Conv2D)         (None, 12, 12, 192)          215040    ['activation_141[0][0]']      \n",
            "                                                                                                  \n",
            " conv2d_143 (Conv2D)         (None, 12, 12, 192)          147456    ['average_pooling2d_13[0][0]']\n",
            "                                                                                                  \n",
            " batch_normalization_134 (B  (None, 12, 12, 192)          576       ['conv2d_134[0][0]']          \n",
            " atchNormalization)                                                                               \n",
            "                                                                                                  \n",
            " batch_normalization_137 (B  (None, 12, 12, 192)          576       ['conv2d_137[0][0]']          \n",
            " atchNormalization)                                                                               \n",
            "                                                                                                  \n",
            " batch_normalization_142 (B  (None, 12, 12, 192)          576       ['conv2d_142[0][0]']          \n",
            " atchNormalization)                                                                               \n",
            "                                                                                                  \n",
            " batch_normalization_143 (B  (None, 12, 12, 192)          576       ['conv2d_143[0][0]']          \n",
            " atchNormalization)                                                                               \n",
            "                                                                                                  \n",
            " activation_134 (Activation  (None, 12, 12, 192)          0         ['batch_normalization_134[0][0\n",
            " )                                                                  ]']                           \n",
            "                                                                                                  \n",
            " activation_137 (Activation  (None, 12, 12, 192)          0         ['batch_normalization_137[0][0\n",
            " )                                                                  ]']                           \n",
            "                                                                                                  \n",
            " activation_142 (Activation  (None, 12, 12, 192)          0         ['batch_normalization_142[0][0\n",
            " )                                                                  ]']                           \n",
            "                                                                                                  \n",
            " activation_143 (Activation  (None, 12, 12, 192)          0         ['batch_normalization_143[0][0\n",
            " )                                                                  ]']                           \n",
            "                                                                                                  \n",
            " mixed5 (Concatenate)        (None, 12, 12, 768)          0         ['activation_134[0][0]',      \n",
            "                                                                     'activation_137[0][0]',      \n",
            "                                                                     'activation_142[0][0]',      \n",
            "                                                                     'activation_143[0][0]']      \n",
            "                                                                                                  \n",
            " conv2d_148 (Conv2D)         (None, 12, 12, 160)          122880    ['mixed5[0][0]']              \n",
            "                                                                                                  \n",
            " batch_normalization_148 (B  (None, 12, 12, 160)          480       ['conv2d_148[0][0]']          \n",
            " atchNormalization)                                                                               \n",
            "                                                                                                  \n",
            " activation_148 (Activation  (None, 12, 12, 160)          0         ['batch_normalization_148[0][0\n",
            " )                                                                  ]']                           \n",
            "                                                                                                  \n",
            " conv2d_149 (Conv2D)         (None, 12, 12, 160)          179200    ['activation_148[0][0]']      \n",
            "                                                                                                  \n",
            " batch_normalization_149 (B  (None, 12, 12, 160)          480       ['conv2d_149[0][0]']          \n",
            " atchNormalization)                                                                               \n",
            "                                                                                                  \n",
            " activation_149 (Activation  (None, 12, 12, 160)          0         ['batch_normalization_149[0][0\n",
            " )                                                                  ]']                           \n",
            "                                                                                                  \n",
            " conv2d_145 (Conv2D)         (None, 12, 12, 160)          122880    ['mixed5[0][0]']              \n",
            "                                                                                                  \n",
            " conv2d_150 (Conv2D)         (None, 12, 12, 160)          179200    ['activation_149[0][0]']      \n",
            "                                                                                                  \n",
            " batch_normalization_145 (B  (None, 12, 12, 160)          480       ['conv2d_145[0][0]']          \n",
            " atchNormalization)                                                                               \n",
            "                                                                                                  \n",
            " batch_normalization_150 (B  (None, 12, 12, 160)          480       ['conv2d_150[0][0]']          \n",
            " atchNormalization)                                                                               \n",
            "                                                                                                  \n",
            " activation_145 (Activation  (None, 12, 12, 160)          0         ['batch_normalization_145[0][0\n",
            " )                                                                  ]']                           \n",
            "                                                                                                  \n",
            " activation_150 (Activation  (None, 12, 12, 160)          0         ['batch_normalization_150[0][0\n",
            " )                                                                  ]']                           \n",
            "                                                                                                  \n",
            " conv2d_146 (Conv2D)         (None, 12, 12, 160)          179200    ['activation_145[0][0]']      \n",
            "                                                                                                  \n",
            " conv2d_151 (Conv2D)         (None, 12, 12, 160)          179200    ['activation_150[0][0]']      \n",
            "                                                                                                  \n",
            " batch_normalization_146 (B  (None, 12, 12, 160)          480       ['conv2d_146[0][0]']          \n",
            " atchNormalization)                                                                               \n",
            "                                                                                                  \n",
            " batch_normalization_151 (B  (None, 12, 12, 160)          480       ['conv2d_151[0][0]']          \n",
            " atchNormalization)                                                                               \n",
            "                                                                                                  \n",
            " activation_146 (Activation  (None, 12, 12, 160)          0         ['batch_normalization_146[0][0\n",
            " )                                                                  ]']                           \n",
            "                                                                                                  \n",
            " activation_151 (Activation  (None, 12, 12, 160)          0         ['batch_normalization_151[0][0\n",
            " )                                                                  ]']                           \n",
            "                                                                                                  \n",
            " average_pooling2d_14 (Aver  (None, 12, 12, 768)          0         ['mixed5[0][0]']              \n",
            " agePooling2D)                                                                                    \n",
            "                                                                                                  \n",
            " conv2d_144 (Conv2D)         (None, 12, 12, 192)          147456    ['mixed5[0][0]']              \n",
            "                                                                                                  \n",
            " conv2d_147 (Conv2D)         (None, 12, 12, 192)          215040    ['activation_146[0][0]']      \n",
            "                                                                                                  \n",
            " conv2d_152 (Conv2D)         (None, 12, 12, 192)          215040    ['activation_151[0][0]']      \n",
            "                                                                                                  \n",
            " conv2d_153 (Conv2D)         (None, 12, 12, 192)          147456    ['average_pooling2d_14[0][0]']\n",
            "                                                                                                  \n",
            " batch_normalization_144 (B  (None, 12, 12, 192)          576       ['conv2d_144[0][0]']          \n",
            " atchNormalization)                                                                               \n",
            "                                                                                                  \n",
            " batch_normalization_147 (B  (None, 12, 12, 192)          576       ['conv2d_147[0][0]']          \n",
            " atchNormalization)                                                                               \n",
            "                                                                                                  \n",
            " batch_normalization_152 (B  (None, 12, 12, 192)          576       ['conv2d_152[0][0]']          \n",
            " atchNormalization)                                                                               \n",
            "                                                                                                  \n",
            " batch_normalization_153 (B  (None, 12, 12, 192)          576       ['conv2d_153[0][0]']          \n",
            " atchNormalization)                                                                               \n",
            "                                                                                                  \n",
            " activation_144 (Activation  (None, 12, 12, 192)          0         ['batch_normalization_144[0][0\n",
            " )                                                                  ]']                           \n",
            "                                                                                                  \n",
            " activation_147 (Activation  (None, 12, 12, 192)          0         ['batch_normalization_147[0][0\n",
            " )                                                                  ]']                           \n",
            "                                                                                                  \n",
            " activation_152 (Activation  (None, 12, 12, 192)          0         ['batch_normalization_152[0][0\n",
            " )                                                                  ]']                           \n",
            "                                                                                                  \n",
            " activation_153 (Activation  (None, 12, 12, 192)          0         ['batch_normalization_153[0][0\n",
            " )                                                                  ]']                           \n",
            "                                                                                                  \n",
            " mixed6 (Concatenate)        (None, 12, 12, 768)          0         ['activation_144[0][0]',      \n",
            "                                                                     'activation_147[0][0]',      \n",
            "                                                                     'activation_152[0][0]',      \n",
            "                                                                     'activation_153[0][0]']      \n",
            "                                                                                                  \n",
            " conv2d_158 (Conv2D)         (None, 12, 12, 192)          147456    ['mixed6[0][0]']              \n",
            "                                                                                                  \n",
            " batch_normalization_158 (B  (None, 12, 12, 192)          576       ['conv2d_158[0][0]']          \n",
            " atchNormalization)                                                                               \n",
            "                                                                                                  \n",
            " activation_158 (Activation  (None, 12, 12, 192)          0         ['batch_normalization_158[0][0\n",
            " )                                                                  ]']                           \n",
            "                                                                                                  \n",
            " conv2d_159 (Conv2D)         (None, 12, 12, 192)          258048    ['activation_158[0][0]']      \n",
            "                                                                                                  \n",
            " batch_normalization_159 (B  (None, 12, 12, 192)          576       ['conv2d_159[0][0]']          \n",
            " atchNormalization)                                                                               \n",
            "                                                                                                  \n",
            " activation_159 (Activation  (None, 12, 12, 192)          0         ['batch_normalization_159[0][0\n",
            " )                                                                  ]']                           \n",
            "                                                                                                  \n",
            " conv2d_155 (Conv2D)         (None, 12, 12, 192)          147456    ['mixed6[0][0]']              \n",
            "                                                                                                  \n",
            " conv2d_160 (Conv2D)         (None, 12, 12, 192)          258048    ['activation_159[0][0]']      \n",
            "                                                                                                  \n",
            " batch_normalization_155 (B  (None, 12, 12, 192)          576       ['conv2d_155[0][0]']          \n",
            " atchNormalization)                                                                               \n",
            "                                                                                                  \n",
            " batch_normalization_160 (B  (None, 12, 12, 192)          576       ['conv2d_160[0][0]']          \n",
            " atchNormalization)                                                                               \n",
            "                                                                                                  \n",
            " activation_155 (Activation  (None, 12, 12, 192)          0         ['batch_normalization_155[0][0\n",
            " )                                                                  ]']                           \n",
            "                                                                                                  \n",
            " activation_160 (Activation  (None, 12, 12, 192)          0         ['batch_normalization_160[0][0\n",
            " )                                                                  ]']                           \n",
            "                                                                                                  \n",
            " conv2d_156 (Conv2D)         (None, 12, 12, 192)          258048    ['activation_155[0][0]']      \n",
            "                                                                                                  \n",
            " conv2d_161 (Conv2D)         (None, 12, 12, 192)          258048    ['activation_160[0][0]']      \n",
            "                                                                                                  \n",
            " batch_normalization_156 (B  (None, 12, 12, 192)          576       ['conv2d_156[0][0]']          \n",
            " atchNormalization)                                                                               \n",
            "                                                                                                  \n",
            " batch_normalization_161 (B  (None, 12, 12, 192)          576       ['conv2d_161[0][0]']          \n",
            " atchNormalization)                                                                               \n",
            "                                                                                                  \n",
            " activation_156 (Activation  (None, 12, 12, 192)          0         ['batch_normalization_156[0][0\n",
            " )                                                                  ]']                           \n",
            "                                                                                                  \n",
            " activation_161 (Activation  (None, 12, 12, 192)          0         ['batch_normalization_161[0][0\n",
            " )                                                                  ]']                           \n",
            "                                                                                                  \n",
            " average_pooling2d_15 (Aver  (None, 12, 12, 768)          0         ['mixed6[0][0]']              \n",
            " agePooling2D)                                                                                    \n",
            "                                                                                                  \n",
            " conv2d_154 (Conv2D)         (None, 12, 12, 192)          147456    ['mixed6[0][0]']              \n",
            "                                                                                                  \n",
            " conv2d_157 (Conv2D)         (None, 12, 12, 192)          258048    ['activation_156[0][0]']      \n",
            "                                                                                                  \n",
            " conv2d_162 (Conv2D)         (None, 12, 12, 192)          258048    ['activation_161[0][0]']      \n",
            "                                                                                                  \n",
            " conv2d_163 (Conv2D)         (None, 12, 12, 192)          147456    ['average_pooling2d_15[0][0]']\n",
            "                                                                                                  \n",
            " batch_normalization_154 (B  (None, 12, 12, 192)          576       ['conv2d_154[0][0]']          \n",
            " atchNormalization)                                                                               \n",
            "                                                                                                  \n",
            " batch_normalization_157 (B  (None, 12, 12, 192)          576       ['conv2d_157[0][0]']          \n",
            " atchNormalization)                                                                               \n",
            "                                                                                                  \n",
            " batch_normalization_162 (B  (None, 12, 12, 192)          576       ['conv2d_162[0][0]']          \n",
            " atchNormalization)                                                                               \n",
            "                                                                                                  \n",
            " batch_normalization_163 (B  (None, 12, 12, 192)          576       ['conv2d_163[0][0]']          \n",
            " atchNormalization)                                                                               \n",
            "                                                                                                  \n",
            " activation_154 (Activation  (None, 12, 12, 192)          0         ['batch_normalization_154[0][0\n",
            " )                                                                  ]']                           \n",
            "                                                                                                  \n",
            " activation_157 (Activation  (None, 12, 12, 192)          0         ['batch_normalization_157[0][0\n",
            " )                                                                  ]']                           \n",
            "                                                                                                  \n",
            " activation_162 (Activation  (None, 12, 12, 192)          0         ['batch_normalization_162[0][0\n",
            " )                                                                  ]']                           \n",
            "                                                                                                  \n",
            " activation_163 (Activation  (None, 12, 12, 192)          0         ['batch_normalization_163[0][0\n",
            " )                                                                  ]']                           \n",
            "                                                                                                  \n",
            " mixed7 (Concatenate)        (None, 12, 12, 768)          0         ['activation_154[0][0]',      \n",
            "                                                                     'activation_157[0][0]',      \n",
            "                                                                     'activation_162[0][0]',      \n",
            "                                                                     'activation_163[0][0]']      \n",
            "                                                                                                  \n",
            " conv2d_166 (Conv2D)         (None, 12, 12, 192)          147456    ['mixed7[0][0]']              \n",
            "                                                                                                  \n",
            " batch_normalization_166 (B  (None, 12, 12, 192)          576       ['conv2d_166[0][0]']          \n",
            " atchNormalization)                                                                               \n",
            "                                                                                                  \n",
            " activation_166 (Activation  (None, 12, 12, 192)          0         ['batch_normalization_166[0][0\n",
            " )                                                                  ]']                           \n",
            "                                                                                                  \n",
            " conv2d_167 (Conv2D)         (None, 12, 12, 192)          258048    ['activation_166[0][0]']      \n",
            "                                                                                                  \n",
            " batch_normalization_167 (B  (None, 12, 12, 192)          576       ['conv2d_167[0][0]']          \n",
            " atchNormalization)                                                                               \n",
            "                                                                                                  \n",
            " activation_167 (Activation  (None, 12, 12, 192)          0         ['batch_normalization_167[0][0\n",
            " )                                                                  ]']                           \n",
            "                                                                                                  \n",
            " conv2d_164 (Conv2D)         (None, 12, 12, 192)          147456    ['mixed7[0][0]']              \n",
            "                                                                                                  \n",
            " conv2d_168 (Conv2D)         (None, 12, 12, 192)          258048    ['activation_167[0][0]']      \n",
            "                                                                                                  \n",
            " batch_normalization_164 (B  (None, 12, 12, 192)          576       ['conv2d_164[0][0]']          \n",
            " atchNormalization)                                                                               \n",
            "                                                                                                  \n",
            " batch_normalization_168 (B  (None, 12, 12, 192)          576       ['conv2d_168[0][0]']          \n",
            " atchNormalization)                                                                               \n",
            "                                                                                                  \n",
            " activation_164 (Activation  (None, 12, 12, 192)          0         ['batch_normalization_164[0][0\n",
            " )                                                                  ]']                           \n",
            "                                                                                                  \n",
            " activation_168 (Activation  (None, 12, 12, 192)          0         ['batch_normalization_168[0][0\n",
            " )                                                                  ]']                           \n",
            "                                                                                                  \n",
            " conv2d_165 (Conv2D)         (None, 5, 5, 320)            552960    ['activation_164[0][0]']      \n",
            "                                                                                                  \n",
            " conv2d_169 (Conv2D)         (None, 5, 5, 192)            331776    ['activation_168[0][0]']      \n",
            "                                                                                                  \n",
            " batch_normalization_165 (B  (None, 5, 5, 320)            960       ['conv2d_165[0][0]']          \n",
            " atchNormalization)                                                                               \n",
            "                                                                                                  \n",
            " batch_normalization_169 (B  (None, 5, 5, 192)            576       ['conv2d_169[0][0]']          \n",
            " atchNormalization)                                                                               \n",
            "                                                                                                  \n",
            " activation_165 (Activation  (None, 5, 5, 320)            0         ['batch_normalization_165[0][0\n",
            " )                                                                  ]']                           \n",
            "                                                                                                  \n",
            " activation_169 (Activation  (None, 5, 5, 192)            0         ['batch_normalization_169[0][0\n",
            " )                                                                  ]']                           \n",
            "                                                                                                  \n",
            " max_pooling2d_7 (MaxPoolin  (None, 5, 5, 768)            0         ['mixed7[0][0]']              \n",
            " g2D)                                                                                             \n",
            "                                                                                                  \n",
            " mixed8 (Concatenate)        (None, 5, 5, 1280)           0         ['activation_165[0][0]',      \n",
            "                                                                     'activation_169[0][0]',      \n",
            "                                                                     'max_pooling2d_7[0][0]']     \n",
            "                                                                                                  \n",
            " conv2d_174 (Conv2D)         (None, 5, 5, 448)            573440    ['mixed8[0][0]']              \n",
            "                                                                                                  \n",
            " batch_normalization_174 (B  (None, 5, 5, 448)            1344      ['conv2d_174[0][0]']          \n",
            " atchNormalization)                                                                               \n",
            "                                                                                                  \n",
            " activation_174 (Activation  (None, 5, 5, 448)            0         ['batch_normalization_174[0][0\n",
            " )                                                                  ]']                           \n",
            "                                                                                                  \n",
            " conv2d_171 (Conv2D)         (None, 5, 5, 384)            491520    ['mixed8[0][0]']              \n",
            "                                                                                                  \n",
            " conv2d_175 (Conv2D)         (None, 5, 5, 384)            1548288   ['activation_174[0][0]']      \n",
            "                                                                                                  \n",
            " batch_normalization_171 (B  (None, 5, 5, 384)            1152      ['conv2d_171[0][0]']          \n",
            " atchNormalization)                                                                               \n",
            "                                                                                                  \n",
            " batch_normalization_175 (B  (None, 5, 5, 384)            1152      ['conv2d_175[0][0]']          \n",
            " atchNormalization)                                                                               \n",
            "                                                                                                  \n",
            " activation_171 (Activation  (None, 5, 5, 384)            0         ['batch_normalization_171[0][0\n",
            " )                                                                  ]']                           \n",
            "                                                                                                  \n",
            " activation_175 (Activation  (None, 5, 5, 384)            0         ['batch_normalization_175[0][0\n",
            " )                                                                  ]']                           \n",
            "                                                                                                  \n",
            " conv2d_172 (Conv2D)         (None, 5, 5, 384)            442368    ['activation_171[0][0]']      \n",
            "                                                                                                  \n",
            " conv2d_173 (Conv2D)         (None, 5, 5, 384)            442368    ['activation_171[0][0]']      \n",
            "                                                                                                  \n",
            " conv2d_176 (Conv2D)         (None, 5, 5, 384)            442368    ['activation_175[0][0]']      \n",
            "                                                                                                  \n",
            " conv2d_177 (Conv2D)         (None, 5, 5, 384)            442368    ['activation_175[0][0]']      \n",
            "                                                                                                  \n",
            " average_pooling2d_16 (Aver  (None, 5, 5, 1280)           0         ['mixed8[0][0]']              \n",
            " agePooling2D)                                                                                    \n",
            "                                                                                                  \n",
            " conv2d_170 (Conv2D)         (None, 5, 5, 320)            409600    ['mixed8[0][0]']              \n",
            "                                                                                                  \n",
            " batch_normalization_172 (B  (None, 5, 5, 384)            1152      ['conv2d_172[0][0]']          \n",
            " atchNormalization)                                                                               \n",
            "                                                                                                  \n",
            " batch_normalization_173 (B  (None, 5, 5, 384)            1152      ['conv2d_173[0][0]']          \n",
            " atchNormalization)                                                                               \n",
            "                                                                                                  \n",
            " batch_normalization_176 (B  (None, 5, 5, 384)            1152      ['conv2d_176[0][0]']          \n",
            " atchNormalization)                                                                               \n",
            "                                                                                                  \n",
            " batch_normalization_177 (B  (None, 5, 5, 384)            1152      ['conv2d_177[0][0]']          \n",
            " atchNormalization)                                                                               \n",
            "                                                                                                  \n",
            " conv2d_178 (Conv2D)         (None, 5, 5, 192)            245760    ['average_pooling2d_16[0][0]']\n",
            "                                                                                                  \n",
            " batch_normalization_170 (B  (None, 5, 5, 320)            960       ['conv2d_170[0][0]']          \n",
            " atchNormalization)                                                                               \n",
            "                                                                                                  \n",
            " activation_172 (Activation  (None, 5, 5, 384)            0         ['batch_normalization_172[0][0\n",
            " )                                                                  ]']                           \n",
            "                                                                                                  \n",
            " activation_173 (Activation  (None, 5, 5, 384)            0         ['batch_normalization_173[0][0\n",
            " )                                                                  ]']                           \n",
            "                                                                                                  \n",
            " activation_176 (Activation  (None, 5, 5, 384)            0         ['batch_normalization_176[0][0\n",
            " )                                                                  ]']                           \n",
            "                                                                                                  \n",
            " activation_177 (Activation  (None, 5, 5, 384)            0         ['batch_normalization_177[0][0\n",
            " )                                                                  ]']                           \n",
            "                                                                                                  \n",
            " batch_normalization_178 (B  (None, 5, 5, 192)            576       ['conv2d_178[0][0]']          \n",
            " atchNormalization)                                                                               \n",
            "                                                                                                  \n",
            " activation_170 (Activation  (None, 5, 5, 320)            0         ['batch_normalization_170[0][0\n",
            " )                                                                  ]']                           \n",
            "                                                                                                  \n",
            " mixed9_0 (Concatenate)      (None, 5, 5, 768)            0         ['activation_172[0][0]',      \n",
            "                                                                     'activation_173[0][0]']      \n",
            "                                                                                                  \n",
            " concatenate_2 (Concatenate  (None, 5, 5, 768)            0         ['activation_176[0][0]',      \n",
            " )                                                                   'activation_177[0][0]']      \n",
            "                                                                                                  \n",
            " activation_178 (Activation  (None, 5, 5, 192)            0         ['batch_normalization_178[0][0\n",
            " )                                                                  ]']                           \n",
            "                                                                                                  \n",
            " mixed9 (Concatenate)        (None, 5, 5, 2048)           0         ['activation_170[0][0]',      \n",
            "                                                                     'mixed9_0[0][0]',            \n",
            "                                                                     'concatenate_2[0][0]',       \n",
            "                                                                     'activation_178[0][0]']      \n",
            "                                                                                                  \n",
            " conv2d_183 (Conv2D)         (None, 5, 5, 448)            917504    ['mixed9[0][0]']              \n",
            "                                                                                                  \n",
            " batch_normalization_183 (B  (None, 5, 5, 448)            1344      ['conv2d_183[0][0]']          \n",
            " atchNormalization)                                                                               \n",
            "                                                                                                  \n",
            " activation_183 (Activation  (None, 5, 5, 448)            0         ['batch_normalization_183[0][0\n",
            " )                                                                  ]']                           \n",
            "                                                                                                  \n",
            " conv2d_180 (Conv2D)         (None, 5, 5, 384)            786432    ['mixed9[0][0]']              \n",
            "                                                                                                  \n",
            " conv2d_184 (Conv2D)         (None, 5, 5, 384)            1548288   ['activation_183[0][0]']      \n",
            "                                                                                                  \n",
            " batch_normalization_180 (B  (None, 5, 5, 384)            1152      ['conv2d_180[0][0]']          \n",
            " atchNormalization)                                                                               \n",
            "                                                                                                  \n",
            " batch_normalization_184 (B  (None, 5, 5, 384)            1152      ['conv2d_184[0][0]']          \n",
            " atchNormalization)                                                                               \n",
            "                                                                                                  \n",
            " activation_180 (Activation  (None, 5, 5, 384)            0         ['batch_normalization_180[0][0\n",
            " )                                                                  ]']                           \n",
            "                                                                                                  \n",
            " activation_184 (Activation  (None, 5, 5, 384)            0         ['batch_normalization_184[0][0\n",
            " )                                                                  ]']                           \n",
            "                                                                                                  \n",
            " conv2d_181 (Conv2D)         (None, 5, 5, 384)            442368    ['activation_180[0][0]']      \n",
            "                                                                                                  \n",
            " conv2d_182 (Conv2D)         (None, 5, 5, 384)            442368    ['activation_180[0][0]']      \n",
            "                                                                                                  \n",
            " conv2d_185 (Conv2D)         (None, 5, 5, 384)            442368    ['activation_184[0][0]']      \n",
            "                                                                                                  \n",
            " conv2d_186 (Conv2D)         (None, 5, 5, 384)            442368    ['activation_184[0][0]']      \n",
            "                                                                                                  \n",
            " average_pooling2d_17 (Aver  (None, 5, 5, 2048)           0         ['mixed9[0][0]']              \n",
            " agePooling2D)                                                                                    \n",
            "                                                                                                  \n",
            " conv2d_179 (Conv2D)         (None, 5, 5, 320)            655360    ['mixed9[0][0]']              \n",
            "                                                                                                  \n",
            " batch_normalization_181 (B  (None, 5, 5, 384)            1152      ['conv2d_181[0][0]']          \n",
            " atchNormalization)                                                                               \n",
            "                                                                                                  \n",
            " batch_normalization_182 (B  (None, 5, 5, 384)            1152      ['conv2d_182[0][0]']          \n",
            " atchNormalization)                                                                               \n",
            "                                                                                                  \n",
            " batch_normalization_185 (B  (None, 5, 5, 384)            1152      ['conv2d_185[0][0]']          \n",
            " atchNormalization)                                                                               \n",
            "                                                                                                  \n",
            " batch_normalization_186 (B  (None, 5, 5, 384)            1152      ['conv2d_186[0][0]']          \n",
            " atchNormalization)                                                                               \n",
            "                                                                                                  \n",
            " conv2d_187 (Conv2D)         (None, 5, 5, 192)            393216    ['average_pooling2d_17[0][0]']\n",
            "                                                                                                  \n",
            " batch_normalization_179 (B  (None, 5, 5, 320)            960       ['conv2d_179[0][0]']          \n",
            " atchNormalization)                                                                               \n",
            "                                                                                                  \n",
            " activation_181 (Activation  (None, 5, 5, 384)            0         ['batch_normalization_181[0][0\n",
            " )                                                                  ]']                           \n",
            "                                                                                                  \n",
            " activation_182 (Activation  (None, 5, 5, 384)            0         ['batch_normalization_182[0][0\n",
            " )                                                                  ]']                           \n",
            "                                                                                                  \n",
            " activation_185 (Activation  (None, 5, 5, 384)            0         ['batch_normalization_185[0][0\n",
            " )                                                                  ]']                           \n",
            "                                                                                                  \n",
            " activation_186 (Activation  (None, 5, 5, 384)            0         ['batch_normalization_186[0][0\n",
            " )                                                                  ]']                           \n",
            "                                                                                                  \n",
            " batch_normalization_187 (B  (None, 5, 5, 192)            576       ['conv2d_187[0][0]']          \n",
            " atchNormalization)                                                                               \n",
            "                                                                                                  \n",
            " activation_179 (Activation  (None, 5, 5, 320)            0         ['batch_normalization_179[0][0\n",
            " )                                                                  ]']                           \n",
            "                                                                                                  \n",
            " mixed9_1 (Concatenate)      (None, 5, 5, 768)            0         ['activation_181[0][0]',      \n",
            "                                                                     'activation_182[0][0]']      \n",
            "                                                                                                  \n",
            " concatenate_3 (Concatenate  (None, 5, 5, 768)            0         ['activation_185[0][0]',      \n",
            " )                                                                   'activation_186[0][0]']      \n",
            "                                                                                                  \n",
            " activation_187 (Activation  (None, 5, 5, 192)            0         ['batch_normalization_187[0][0\n",
            " )                                                                  ]']                           \n",
            "                                                                                                  \n",
            " mixed10 (Concatenate)       (None, 5, 5, 2048)           0         ['activation_179[0][0]',      \n",
            "                                                                     'mixed9_1[0][0]',            \n",
            "                                                                     'concatenate_3[0][0]',       \n",
            "                                                                     'activation_187[0][0]']      \n",
            "                                                                                                  \n",
            " flatten (Flatten)           (None, 51200)                0         ['mixed10[0][0]']             \n",
            "                                                                                                  \n",
            " dense (Dense)               (None, 3)                    153603    ['flatten[0][0]']             \n",
            "                                                                                                  \n",
            "==================================================================================================\n",
            "Total params: 21956387 (83.76 MB)\n",
            "Trainable params: 153603 (600.01 KB)\n",
            "Non-trainable params: 21802784 (83.17 MB)\n",
            "__________________________________________________________________________________________________\n"
          ]
        }
      ],
      "source": [
        "# view the structure of the model\n",
        "model.summary()"
      ]
    },
    {
      "cell_type": "code",
      "execution_count": null,
      "metadata": {
        "id": "oBEODquXez4Y"
      },
      "outputs": [],
      "source": [
        "# tell the model what cost and optimization method to use\n",
        "model.compile(\n",
        "  loss='categorical_crossentropy',\n",
        "  optimizer='adam',\n",
        "  metrics=['accuracy']\n",
        ")\n"
      ]
    },
    {
      "cell_type": "code",
      "execution_count": null,
      "metadata": {
        "id": "pyr81ETZfe_7"
      },
      "outputs": [],
      "source": [
        "# Use the Image Data Generator to import the images from the dataset\n",
        "from tensorflow.keras.preprocessing.image import ImageDataGenerator\n",
        "\n",
        "train_datagen = ImageDataGenerator(rescale = 1./255,\n",
        "                                   shear_range = 0.2,\n",
        "                                   zoom_range = 0.2,\n",
        "                                   horizontal_flip = True)\n",
        "\n",
        "test_datagen = ImageDataGenerator(rescale = 1./255)\n"
      ]
    },
    {
      "cell_type": "code",
      "execution_count": null,
      "metadata": {
        "colab": {
          "base_uri": "https://localhost:8080/"
        },
        "id": "eHp6WqApfkGw",
        "outputId": "c7f016b9-1995-4b9e-a6a5-88191acfc7cf"
      },
      "outputs": [
        {
          "output_type": "stream",
          "name": "stdout",
          "text": [
            "Found 777 images belonging to 3 classes.\n"
          ]
        }
      ],
      "source": [
        "# Make sure you provide the same target size as initialied for the image size\n",
        "training_set = train_datagen.flow_from_directory('/content/drive/MyDrive/data/dataset/train',\n",
        "                                                 target_size = (224, 224),\n",
        "                                                 batch_size = 16,\n",
        "                                                 class_mode = 'categorical')"
      ]
    },
    {
      "cell_type": "code",
      "execution_count": null,
      "metadata": {
        "colab": {
          "base_uri": "https://localhost:8080/"
        },
        "id": "6Zy8TnCgf4AO",
        "outputId": "db29c3b4-1eca-444f-bb66-4e6089c9968b"
      },
      "outputs": [
        {
          "output_type": "stream",
          "name": "stdout",
          "text": [
            "Found 42 images belonging to 3 classes.\n"
          ]
        }
      ],
      "source": [
        "test_set = test_datagen.flow_from_directory('/content/drive/MyDrive/data/dataset/test',\n",
        "                                            target_size = (224, 224),\n",
        "                                            batch_size = 16,\n",
        "                                            class_mode = 'categorical')"
      ]
    },
    {
      "cell_type": "code",
      "execution_count": null,
      "metadata": {
        "colab": {
          "base_uri": "https://localhost:8080/"
        },
        "id": "7Gbu1eucgImC",
        "outputId": "5a1d2d5a-e308-4877-a689-c3919d8d652f"
      },
      "outputs": [
        {
          "output_type": "stream",
          "name": "stderr",
          "text": [
            "<ipython-input-15-04ffb29a66a7>:3: UserWarning: `Model.fit_generator` is deprecated and will be removed in a future version. Please use `Model.fit`, which supports generators.\n",
            "  r = model.fit_generator(\n"
          ]
        },
        {
          "output_type": "stream",
          "name": "stdout",
          "text": [
            "Epoch 1/10\n",
            "49/49 [==============================] - 191s 4s/step - loss: 0.7447 - accuracy: 0.9048 - val_loss: 36.8948 - val_accuracy: 0.3810\n",
            "Epoch 2/10\n",
            "49/49 [==============================] - 13s 265ms/step - loss: 0.7331 - accuracy: 0.9498 - val_loss: 30.5450 - val_accuracy: 0.6429\n",
            "Epoch 3/10\n",
            "49/49 [==============================] - 13s 264ms/step - loss: 0.7608 - accuracy: 0.9614 - val_loss: 28.6859 - val_accuracy: 0.3095\n",
            "Epoch 4/10\n",
            "49/49 [==============================] - 13s 266ms/step - loss: 1.0356 - accuracy: 0.9447 - val_loss: 17.4461 - val_accuracy: 0.4524\n",
            "Epoch 5/10\n",
            "49/49 [==============================] - 13s 266ms/step - loss: 1.3925 - accuracy: 0.9369 - val_loss: 25.9793 - val_accuracy: 0.6429\n",
            "Epoch 6/10\n",
            "49/49 [==============================] - 14s 291ms/step - loss: 1.1058 - accuracy: 0.9562 - val_loss: 28.2629 - val_accuracy: 0.6429\n",
            "Epoch 7/10\n",
            "49/49 [==============================] - 13s 264ms/step - loss: 0.7872 - accuracy: 0.9562 - val_loss: 29.4301 - val_accuracy: 0.6190\n",
            "Epoch 8/10\n",
            "49/49 [==============================] - 13s 265ms/step - loss: 1.2913 - accuracy: 0.9459 - val_loss: 29.7029 - val_accuracy: 0.6190\n",
            "Epoch 9/10\n",
            "49/49 [==============================] - 13s 265ms/step - loss: 1.1554 - accuracy: 0.9588 - val_loss: 29.0923 - val_accuracy: 0.6190\n",
            "Epoch 10/10\n",
            "49/49 [==============================] - 13s 264ms/step - loss: 1.3871 - accuracy: 0.9498 - val_loss: 31.4011 - val_accuracy: 0.2619\n"
          ]
        }
      ],
      "source": [
        "# fit the model\n",
        "# Run the cell. It will take some time to execute\n",
        "r = model.fit_generator(\n",
        "  training_set,\n",
        "  validation_data=test_set,\n",
        "  epochs=10,\n",
        "  steps_per_epoch=len(training_set),\n",
        "  validation_steps=len(test_set)\n",
        ")"
      ]
    },
    {
      "cell_type": "code",
      "execution_count": null,
      "metadata": {
        "id": "I1DWqOuTgPSc",
        "colab": {
          "base_uri": "https://localhost:8080/",
          "height": 862
        },
        "outputId": "742a3a7d-cd5e-48b8-d0d3-73bb05f2337d"
      },
      "outputs": [
        {
          "output_type": "display_data",
          "data": {
            "text/plain": [
              "<Figure size 640x480 with 1 Axes>"
            ],
            "image/png": "[encoded data removed]"
          },
          "metadata": {}
        },
        {
          "output_type": "display_data",
          "data": {
            "text/plain": [
              "<Figure size 640x480 with 1 Axes>"
            ],
            "image/png": "[encoded data removed]"
          },
          "metadata": {}
        },
        {
          "output_type": "display_data",
          "data": {
            "text/plain": [
              "<Figure size 640x480 with 0 Axes>"
            ]
          },
          "metadata": {}
        }
      ],
      "source": [
        "import matplotlib.pyplot as plt\n",
        "\n",
        "# plot the loss\n",
        "plt.plot(r.history['loss'], label='train loss')\n",
        "plt.plot(r.history['val_loss'], label='val loss')\n",
        "plt.legend()\n",
        "plt.show()\n",
        "plt.savefig('LossVal_loss')\n",
        "\n",
        "# plot the accuracy\n",
        "plt.plot(r.history['accuracy'], label='train acc')\n",
        "plt.plot(r.history['val_accuracy'], label='val acc')\n",
        "plt.legend()\n",
        "plt.show()\n",
        "plt.savefig('AccVal_acc')\n"
      ]
    },
    {
      "cell_type": "code",
      "source": [
        "# save it as a h5 file\n",
        "\n",
        "\n",
        "from tensorflow.keras.models import load_model\n",
        "\n",
        "model.save('/content/drive/MyDrive/data/dataset/model_resnet50.h5')\n"
      ],
      "metadata": {
        "id": "pawMvcfXavCT"
      },
      "execution_count": null,
      "outputs": []
    },
    {
      "cell_type": "code",
      "source": [
        "y_pred = model.predict(test_set)"
      ],
      "metadata": {
        "colab": {
          "base_uri": "https://localhost:8080/"
        },
        "id": "1lPucholendF",
        "outputId": "e594f186-4992-493e-b10c-fed37c22b2d4"
      },
      "execution_count": null,
      "outputs": [
        {
          "output_type": "stream",
          "name": "stdout",
          "text": [
            "3/3 [==============================] - 1s 66ms/step\n"
          ]
        }
      ]
    },
    {
      "cell_type": "code",
      "source": [
        "y_pred\n"
      ],
      "metadata": {
        "colab": {
          "base_uri": "https://localhost:8080/"
        },
        "id": "jw9qzzjIesOZ",
        "outputId": "5320a64a-f4a8-4887-8eb0-8ed96c235603"
      },
      "execution_count": null,
      "outputs": [
        {
          "output_type": "execute_result",
          "data": {
            "text/plain": [
              "array([[7.54188595e-25, 3.70575562e-02, 9.62942481e-01],\n",
              "       [1.47780144e-28, 9.99349773e-01, 6.50186616e-04],\n",
              "       [0.00000000e+00, 1.00000000e+00, 3.15786455e-35],\n",
              "       [0.00000000e+00, 1.00000000e+00, 3.12660417e-27],\n",
              "       [8.69591574e-27, 6.11800134e-01, 3.88199836e-01],\n",
              "       [0.00000000e+00, 1.00000000e+00, 1.52614826e-33],\n",
              "       [6.85006873e-31, 1.00000000e+00, 4.57329685e-09],\n",
              "       [3.10507256e-31, 8.33799243e-01, 1.66200817e-01],\n",
              "       [0.00000000e+00, 1.00000000e+00, 7.45647336e-38],\n",
              "       [0.00000000e+00, 1.00000000e+00, 7.10962861e-35],\n",
              "       [1.38090303e-32, 1.00000000e+00, 7.67438847e-13],\n",
              "       [4.32725414e-34, 1.00000000e+00, 7.82285274e-14],\n",
              "       [5.23905089e-28, 1.00000000e+00, 4.96275373e-12],\n",
              "       [5.05076458e-33, 1.00000000e+00, 1.31488719e-14],\n",
              "       [3.60257163e-35, 1.00000000e+00, 2.26400905e-18],\n",
              "       [0.00000000e+00, 1.00000000e+00, 4.60143032e-30],\n",
              "       [8.94186162e-28, 1.56109425e-04, 9.99843836e-01],\n",
              "       [1.07280956e-32, 1.00000000e+00, 3.91497430e-08],\n",
              "       [3.38934107e-28, 1.00000000e+00, 1.25847483e-11],\n",
              "       [1.22962461e-27, 9.99946952e-01, 5.30010802e-05],\n",
              "       [0.00000000e+00, 1.00000000e+00, 1.23211424e-32],\n",
              "       [0.00000000e+00, 1.00000000e+00, 4.56905772e-36],\n",
              "       [4.27349479e-35, 1.00000000e+00, 1.32016316e-12],\n",
              "       [0.00000000e+00, 1.00000000e+00, 6.98118549e-29],\n",
              "       [8.29235092e-32, 9.99993324e-01, 6.65175685e-06],\n",
              "       [4.84530053e-25, 1.00000000e+00, 2.80151049e-08],\n",
              "       [3.78309653e-31, 9.94024932e-01, 5.97513653e-03],\n",
              "       [4.50794783e-34, 1.00000000e+00, 3.69750990e-14],\n",
              "       [8.62187454e-34, 1.00000000e+00, 8.92196560e-12],\n",
              "       [1.96814224e-28, 9.99995589e-01, 4.40353961e-06],\n",
              "       [0.00000000e+00, 1.00000000e+00, 3.86092342e-30],\n",
              "       [2.32411525e-33, 9.99999166e-01, 8.19147886e-07],\n",
              "       [3.42562848e-28, 9.99747097e-01, 2.52890750e-04],\n",
              "       [7.62515724e-26, 9.99998689e-01, 1.33732817e-06],\n",
              "       [4.75876996e-22, 6.22239849e-03, 9.93777633e-01],\n",
              "       [6.77494834e-30, 9.99970317e-01, 2.97144288e-05],\n",
              "       [0.00000000e+00, 1.00000000e+00, 8.22398300e-32],\n",
              "       [1.43152357e-25, 5.82304776e-01, 4.17695194e-01],\n",
              "       [2.22601032e-26, 9.99999881e-01, 1.07014380e-07],\n",
              "       [6.48200491e-29, 9.59593832e-01, 4.04061675e-02],\n",
              "       [1.87376297e-26, 1.81646477e-02, 9.81835365e-01],\n",
              "       [2.61388346e-25, 1.00000000e+00, 5.28155963e-10]], dtype=float32)"
            ]
          },
          "metadata": {},
          "execution_count": 20
        }
      ]
    },
    {
      "cell_type": "code",
      "source": [
        "y_pred = np.argmax(y_pred, axis=1)"
      ],
      "metadata": {
        "id": "2tyBka07eynZ"
      },
      "execution_count": null,
      "outputs": []
    },
    {
      "cell_type": "code",
      "source": [
        "y_pred\n"
      ],
      "metadata": {
        "colab": {
          "base_uri": "https://localhost:8080/"
        },
        "id": "T7IdStVDe_3I",
        "outputId": "59b8920c-78fe-47dd-aa90-d5260b84641e"
      },
      "execution_count": null,
      "outputs": [
        {
          "output_type": "execute_result",
          "data": {
            "text/plain": [
              "array([2, 1, 1, 1, 1, 1, 1, 1, 1, 1, 1, 1, 1, 1, 1, 1, 2, 1, 1, 1, 1, 1,\n",
              "       1, 1, 1, 1, 1, 1, 1, 1, 1, 1, 1, 1, 2, 1, 1, 1, 1, 1, 2, 1])"
            ]
          },
          "metadata": {},
          "execution_count": 22
        }
      ]
    },
    {
      "cell_type": "code",
      "source": [
        "from tensorflow.keras.models import load_model\n",
        "from tensorflow.keras.preprocessing import image"
      ],
      "metadata": {
        "id": "pTwF26gbfEMk"
      },
      "execution_count": null,
      "outputs": []
    },
    {
      "cell_type": "code",
      "source": [
        "model=load_model('/content/drive/MyDrive/data/dataset/model_resnet50.h5')"
      ],
      "metadata": {
        "id": "g52dUgvDgCHR"
      },
      "execution_count": null,
      "outputs": []
    },
    {
      "cell_type": "code",
      "source": [
        "img=image.load_img('/content/drive/MyDrive/data/dataset/test/good signal path/6588.png',target_size=(224,224))"
      ],
      "metadata": {
        "id": "UrfPLYj-gydz"
      },
      "execution_count": null,
      "outputs": []
    },
    {
      "cell_type": "code",
      "source": [
        "x=image.img_to_array(img)\n",
        "x"
      ],
      "metadata": {
        "colab": {
          "base_uri": "https://localhost:8080/"
        },
        "id": "FOJOTRiigIyY",
        "outputId": "638ab6c5-8a5c-4321-f85b-0bdddf391ca0"
      },
      "execution_count": null,
      "outputs": [
        {
          "output_type": "execute_result",
          "data": {
            "text/plain": [
              "array([[[186., 164., 151.],\n",
              "        [187., 167., 156.],\n",
              "        [189., 171., 161.],\n",
              "        ...,\n",
              "        [206., 150., 125.],\n",
              "        [200., 128., 104.],\n",
              "        [210., 130., 105.]],\n",
              "\n",
              "       [[195., 173., 162.],\n",
              "        [196., 176., 165.],\n",
              "        [195., 178., 170.],\n",
              "        ...,\n",
              "        [208., 154., 130.],\n",
              "        [197., 129., 106.],\n",
              "        [205., 129., 105.]],\n",
              "\n",
              "       [[220., 200., 191.],\n",
              "        [221., 202., 195.],\n",
              "        [212., 197., 192.],\n",
              "        ...,\n",
              "        [209., 161., 139.],\n",
              "        [193., 131., 110.],\n",
              "        [195., 124., 102.]],\n",
              "\n",
              "       ...,\n",
              "\n",
              "       [[ 75.,  89.,  66.],\n",
              "        [ 73.,  87.,  64.],\n",
              "        [ 72.,  84.,  62.],\n",
              "        ...,\n",
              "        [ 97., 105.,  81.],\n",
              "        [ 91.,  99.,  76.],\n",
              "        [ 84.,  94.,  70.]],\n",
              "\n",
              "       [[ 75.,  87.,  67.],\n",
              "        [ 74.,  86.,  64.],\n",
              "        [ 72.,  81.,  60.],\n",
              "        ...,\n",
              "        [ 97., 102.,  79.],\n",
              "        [ 91.,  96.,  74.],\n",
              "        [ 84.,  92.,  69.]],\n",
              "\n",
              "       [[ 62.,  74.,  54.],\n",
              "        [ 67.,  79.,  59.],\n",
              "        [ 71.,  79.,  58.],\n",
              "        ...,\n",
              "        [103., 107.,  84.],\n",
              "        [ 99., 104.,  82.],\n",
              "        [ 95., 100.,  78.]]], dtype=float32)"
            ]
          },
          "metadata": {},
          "execution_count": 27
        }
      ]
    },
    {
      "cell_type": "code",
      "source": [
        "x.shape"
      ],
      "metadata": {
        "colab": {
          "base_uri": "https://localhost:8080/"
        },
        "id": "3ltJcvFigL37",
        "outputId": "f19a6e12-160d-480e-fccc-69fa122b7143"
      },
      "execution_count": null,
      "outputs": [
        {
          "output_type": "execute_result",
          "data": {
            "text/plain": [
              "(224, 224, 3)"
            ]
          },
          "metadata": {},
          "execution_count": 28
        }
      ]
    },
    {
      "cell_type": "code",
      "source": [
        "x=x/255"
      ],
      "metadata": {
        "id": "q6vyfr1IhbN3"
      },
      "execution_count": null,
      "outputs": []
    },
    {
      "cell_type": "code",
      "source": [
        "x=np.expand_dims(x,axis=0)\n",
        "img_data=preprocess_input(x)\n",
        "img_data.shape"
      ],
      "metadata": {
        "colab": {
          "base_uri": "https://localhost:8080/"
        },
        "id": "8B69dnVShd0-",
        "outputId": "1a7f8866-6cf1-4a04-d750-66f6fc39466e"
      },
      "execution_count": null,
      "outputs": [
        {
          "output_type": "execute_result",
          "data": {
            "text/plain": [
              "(1, 224, 224, 3)"
            ]
          },
          "metadata": {},
          "execution_count": 30
        }
      ]
    },
    {
      "cell_type": "code",
      "source": [
        "model.predict(img_data)"
      ],
      "metadata": {
        "colab": {
          "base_uri": "https://localhost:8080/"
        },
        "id": "isFV2vRghjq5",
        "outputId": "72a848b1-ff2c-4306-ea35-b6a4bcd50990"
      },
      "execution_count": null,
      "outputs": [
        {
          "output_type": "stream",
          "name": "stdout",
          "text": [
            "1/1 [==============================] - 3s 3s/step\n"
          ]
        },
        {
          "output_type": "execute_result",
          "data": {
            "text/plain": [
              "array([[4.7450104e-08, 9.9297637e-01, 7.0235948e-03]], dtype=float32)"
            ]
          },
          "metadata": {},
          "execution_count": 31
        }
      ]
    },
    {
      "cell_type": "code",
      "source": [
        "a=np.argmax(model.predict(img_data), axis=1)"
      ],
      "metadata": {
        "colab": {
          "base_uri": "https://localhost:8080/"
        },
        "id": "7M4q3B-Phqsu",
        "outputId": "f75aa21f-cfd8-4e1c-97a0-6b5bf047429c"
      },
      "execution_count": null,
      "outputs": [
        {
          "output_type": "stream",
          "name": "stdout",
          "text": [
            "1/1 [==============================] - 0s 42ms/step\n"
          ]
        }
      ]
    },
    {
      "cell_type": "code",
      "source": [
        "a==1"
      ],
      "metadata": {
        "colab": {
          "base_uri": "https://localhost:8080/"
        },
        "id": "8gCPOt3YhyYD",
        "outputId": "07fae823-a709-4b51-9d1c-b18267d78dd5"
      },
      "execution_count": null,
      "outputs": [
        {
          "output_type": "execute_result",
          "data": {
            "text/plain": [
              "array([ True])"
            ]
          },
          "metadata": {},
          "execution_count": 33
        }
      ]
    },
    {
      "cell_type": "code",
      "source": [
        "a==2"
      ],
      "metadata": {
        "colab": {
          "base_uri": "https://localhost:8080/"
        },
        "id": "mVFlrsvfiNC6",
        "outputId": "8a77f01b-4857-4bd3-b43c-707718a74673"
      },
      "execution_count": null,
      "outputs": [
        {
          "output_type": "execute_result",
          "data": {
            "text/plain": [
              "array([False])"
            ]
          },
          "metadata": {},
          "execution_count": 34
        }
      ]
    },
    {
      "cell_type": "code",
      "source": [
        "a==3"
      ],
      "metadata": {
        "colab": {
          "base_uri": "https://localhost:8080/"
        },
        "id": "sw7pHl_aiRoW",
        "outputId": "df1862fc-2f97-4819-9fe9-3fb94e86f606"
      },
      "execution_count": null,
      "outputs": [
        {
          "output_type": "execute_result",
          "data": {
            "text/plain": [
              "array([False])"
            ]
          },
          "metadata": {},
          "execution_count": 35
        }
      ]
    },
    {
      "cell_type": "code",
      "source": [],
      "metadata": {
        "id": "janprtQ9iYUF"
      },
      "execution_count": null,
      "outputs": []
    }
  ],
  "metadata": {
    "colab": {
      "provenance": [],
      "gpuType": "T4",
      "mount_file_id": "1pP-D39_mdyw71A9zjIFee4XskmKibnsn",
      "authorship_tag": "ABX9TyNwu93yv1NEHRHTUj/kidJw",
      "include_colab_link": true
    },
    "kernelspec": {
      "display_name": "Python 3",
      "name": "python3"
    },
    "language_info": {
      "name": "python"
    },
    "accelerator": "GPU"
  },
  "nbformat": 4,
  "nbformat_minor": 0
}